{
 "cells": [
  {
   "cell_type": "code",
   "execution_count": 52,
   "metadata": {
    "collapsed": true
   },
   "outputs": [],
   "source": [
    "import requests\n",
    "import pandas as pd\n",
    "import matplotlib.pyplot as plt\n",
    "import datetime"
   ]
  },
  {
   "cell_type": "code",
   "execution_count": 62,
   "outputs": [],
   "source": [
    "host = 'http://localhost:8000/'"
   ],
   "metadata": {
    "collapsed": false,
    "pycharm": {
     "name": "#%%\n"
    }
   }
  },
  {
   "cell_type": "code",
   "execution_count": 40,
   "outputs": [],
   "source": [
    "data = {'username': 'admin', 'password': 'adminpassword'}\n",
    "r = requests.post(url=f\"{host}api-token-auth/\", json=data)\n",
    "token = r.json()['token']"
   ],
   "metadata": {
    "collapsed": false,
    "pycharm": {
     "name": "#%%\n"
    }
   }
  },
  {
   "cell_type": "code",
   "execution_count": 41,
   "outputs": [],
   "source": [
    "headers = {'Authorization': f'Token {token}'}\n",
    "r = requests.get(url=f'{host}api/v1/timeseries/2', headers=headers)"
   ],
   "metadata": {
    "collapsed": false,
    "pycharm": {
     "name": "#%%\n"
    }
   }
  },
  {
   "cell_type": "code",
   "execution_count": 42,
   "outputs": [],
   "source": [
    "data_points = r.json()['data_points']"
   ],
   "metadata": {
    "collapsed": false,
    "pycharm": {
     "name": "#%%\n"
    }
   }
  },
  {
   "cell_type": "code",
   "execution_count": 43,
   "outputs": [],
   "source": [
    "df = pd.DataFrame(data_points)\n",
    "df = df[['time_stamp', 'value']].set_index('time_stamp')"
   ],
   "metadata": {
    "collapsed": false,
    "pycharm": {
     "name": "#%%\n"
    }
   }
  },
  {
   "cell_type": "code",
   "execution_count": 54,
   "outputs": [
    {
     "data": {
      "text/plain": "'2015-05-08T00:00:00Z'"
     },
     "execution_count": 54,
     "metadata": {},
     "output_type": "execute_result"
    }
   ],
   "source": [
    "df.index[0]"
   ],
   "metadata": {
    "collapsed": false,
    "pycharm": {
     "name": "#%%\n"
    }
   }
  },
  {
   "cell_type": "code",
   "execution_count": 60,
   "outputs": [
    {
     "data": {
      "text/plain": "([<matplotlib.axis.XTick at 0x7fa9d2138050>,\n  <matplotlib.axis.XTick at 0x7fa9d2148750>,\n  <matplotlib.axis.XTick at 0x7fa9d2088c50>,\n  <matplotlib.axis.XTick at 0x7faa36204550>,\n  <matplotlib.axis.XTick at 0x7faa36204b10>,\n  <matplotlib.axis.XTick at 0x7faa36204cd0>,\n  <matplotlib.axis.XTick at 0x7faa36209390>,\n  <matplotlib.axis.XTick at 0x7faa36209910>,\n  <matplotlib.axis.XTick at 0x7faa36209e90>,\n  <matplotlib.axis.XTick at 0x7faa3620f450>,\n  <matplotlib.axis.XTick at 0x7faa3620f990>,\n  <matplotlib.axis.XTick at 0x7faa3620ff10>,\n  <matplotlib.axis.XTick at 0x7fa9d216d4d0>,\n  <matplotlib.axis.XTick at 0x7fa9d216da50>,\n  <matplotlib.axis.XTick at 0x7fa9d216df10>,\n  <matplotlib.axis.XTick at 0x7fa9d216d590>,\n  <matplotlib.axis.XTick at 0x7faa3620f2d0>,\n  <matplotlib.axis.XTick at 0x7faa36209790>,\n  <matplotlib.axis.XTick at 0x7fa9d2176890>],\n <a list of 19 Text xticklabel objects>)"
     },
     "execution_count": 60,
     "metadata": {},
     "output_type": "execute_result"
    },
    {
     "data": {
      "text/plain": "<Figure size 432x288 with 1 Axes>",
      "image/png": "[encoded data removed]"
     },
     "metadata": {
      "needs_background": "light"
     },
     "output_type": "display_data"
    }
   ],
   "source": [
    "plt.plot(df.index, df['value'])\n",
    "plt.xticks(ticks=[ind for (i, ind) in enumerate(df.index) if i % 20 == 0]\n",
    ", labels=[ind[0:10] for (i, ind) in enumerate(df.index) if i % 20 == 0], rotation=90)"
   ],
   "metadata": {
    "collapsed": false,
    "pycharm": {
     "name": "#%%\n"
    }
   }
  }
 ],
 "metadata": {
  "kernelspec": {
   "display_name": "Python 3",
   "language": "python",
   "name": "python3"
  },
  "language_info": {
   "codemirror_mode": {
    "name": "ipython",
    "version": 2
   },
   "file_extension": ".py",
   "mimetype": "text/x-python",
   "name": "python",
   "nbconvert_exporter": "python",
   "pygments_lexer": "ipython2",
   "version": "2.7.6"
  }
 },
 "nbformat": 4,
 "nbformat_minor": 0
}